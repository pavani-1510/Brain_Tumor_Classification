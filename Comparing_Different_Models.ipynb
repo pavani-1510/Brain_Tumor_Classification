{
 "cells": [
  {
   "cell_type": "code",
   "execution_count": 1,
   "metadata": {},
   "outputs": [
    {
     "name": "stdout",
     "output_type": "stream",
     "text": [
      "Dataset loaded successfully from S3!\n",
      "   step  type    amount  nameOrig  oldbalanceOrg  newbalanceOrig  nameDest  \\\n",
      "0     1     3   9839.64    757869       170136.0       160296.36   1662094   \n",
      "1     1     3   1864.28   2188998        21249.0        19384.72   1733924   \n",
      "2     1     4    181.00   1002156          181.0            0.00    439685   \n",
      "3     1     1    181.00   5828262          181.0            0.00    391696   \n",
      "4     1     3  11668.14   3445981        41554.0        29885.86    828919   \n",
      "\n",
      "   oldbalanceDest  newbalanceDest  isFlaggedFraud  isFraud  \n",
      "0             0.0             0.0               0        0  \n",
      "1             0.0             0.0               0        0  \n",
      "2             0.0             0.0               0        1  \n",
      "3         21182.0             0.0               0        1  \n",
      "4             0.0             0.0               0        0  \n"
     ]
    }
   ],
   "source": [
    "import boto3\n",
    "import pandas as pd\n",
    "from io import StringIO\n",
    "\n",
    "# Define S3 dataset path\n",
    "bucket_name = \"mydataset-710\"\n",
    "file_key = \"resampled_data.csv\"\n",
    "\n",
    "# Initialize S3 client\n",
    "s3_client = boto3.client(\"s3\")\n",
    "\n",
    "# Load dataset from S3\n",
    "obj = s3_client.get_object(Bucket=bucket_name, Key=file_key)\n",
    "df = pd.read_csv(obj[\"Body\"])\n",
    "\n",
    "print(\"Dataset loaded successfully from S3!\")\n",
    "print(df.head())"
   ]
  },
  {
   "cell_type": "code",
   "execution_count": 2,
   "metadata": {},
   "outputs": [],
   "source": [
    "from sklearn.model_selection import train_test_split\n",
    "\n",
    "# Assuming the last column is the target variable\n",
    "X = df.iloc[:, :-1]  \n",
    "y = df.iloc[:, -1]   \n",
    "\n",
    "# Train-test split\n",
    "X_train, X_test, y_train, y_test = train_test_split(X, y, test_size=0.2, random_state=42)"
   ]
  },
  {
   "cell_type": "code",
   "execution_count": 4,
   "metadata": {},
   "outputs": [
    {
     "name": "stdout",
     "output_type": "stream",
     "text": [
      "Collecting xgboost\n",
      "  Downloading xgboost-2.1.4-py3-none-manylinux2014_x86_64.whl.metadata (2.0 kB)\n",
      "Requirement already satisfied: numpy in /home/ec2-user/anaconda3/envs/python3/lib/python3.10/site-packages (from xgboost) (1.26.4)\n",
      "Requirement already satisfied: scipy in /home/ec2-user/anaconda3/envs/python3/lib/python3.10/site-packages (from xgboost) (1.15.1)\n",
      "Downloading xgboost-2.1.4-py3-none-manylinux2014_x86_64.whl (4.5 MB)\n",
      "\u001b[2K   \u001b[90m━━━━━━━━━━━━━━━━━━━━━━━━━━━━━━━━━━━━━━━━\u001b[0m \u001b[32m4.5/4.5 MB\u001b[0m \u001b[31m96.3 MB/s\u001b[0m eta \u001b[36m0:00:00\u001b[0m\n",
      "Installing collected packages: xgboost\n",
      "Successfully installed xgboost-2.1.4\n",
      "Note: you may need to restart the kernel to use updated packages.\n"
     ]
    }
   ],
   "source": [
    "pip install xgboost"
   ]
  },
  {
   "cell_type": "code",
   "execution_count": 5,
   "metadata": {},
   "outputs": [
    {
     "name": "stdout",
     "output_type": "stream",
     "text": [
      "Training Random Forest...\n"
     ]
    },
    {
     "name": "stderr",
     "output_type": "stream",
     "text": [
      "/home/ec2-user/anaconda3/envs/python3/lib/python3.10/site-packages/xgboost/core.py:265: FutureWarning: Your system has an old version of glibc (< 2.28). We will stop supporting Linux distros with glibc older than 2.28 after **May 31, 2025**. Please upgrade to a recent Linux distro (with glibc 2.28+) to use future versions of XGBoost.\n",
      "Note: You have installed the 'manylinux2014' variant of XGBoost. Certain features such as GPU algorithms or federated learning are not available. To use these features, please upgrade to a recent Linux distro with glibc 2.28+, and install the 'manylinux_2_28' variant.\n",
      "  warnings.warn(\n"
     ]
    },
    {
     "name": "stdout",
     "output_type": "stream",
     "text": [
      "Random Forest: Accuracy=0.9996, F1=0.9996, ROC-AUC=1.0000\n",
      "Training Logistic Regression...\n",
      "Logistic Regression: Accuracy=0.9486, F1=0.9487, ROC-AUC=0.9884\n",
      "Training Decision Tree...\n",
      "Decision Tree: Accuracy=0.9995, F1=0.9995, ROC-AUC=0.9995\n",
      "Training XGBoost...\n"
     ]
    },
    {
     "name": "stderr",
     "output_type": "stream",
     "text": [
      "/home/ec2-user/anaconda3/envs/python3/lib/python3.10/site-packages/xgboost/core.py:158: UserWarning: [16:20:38] WARNING: /workspace/src/learner.cc:740: \n",
      "Parameters: { \"use_label_encoder\" } are not used.\n",
      "\n",
      "  warnings.warn(smsg, UserWarning)\n"
     ]
    },
    {
     "name": "stdout",
     "output_type": "stream",
     "text": [
      "XGBoost: Accuracy=0.9985, F1=0.9985, ROC-AUC=1.0000\n"
     ]
    }
   ],
   "source": [
    "from sklearn.ensemble import RandomForestClassifier\n",
    "from sklearn.linear_model import LogisticRegression\n",
    "from sklearn.tree import DecisionTreeClassifier\n",
    "from xgboost import XGBClassifier\n",
    "from sklearn.metrics import accuracy_score, f1_score, roc_auc_score\n",
    "\n",
    "# Define models\n",
    "models = {\n",
    "    \"Random Forest\": RandomForestClassifier(n_estimators=100, random_state=42),\n",
    "    \"Logistic Regression\": LogisticRegression(max_iter=500),\n",
    "    \"Decision Tree\": DecisionTreeClassifier(random_state=42),\n",
    "    \"XGBoost\": XGBClassifier(use_label_encoder=False, eval_metric='logloss')\n",
    "}\n",
    "\n",
    "# Store model scores\n",
    "model_scores = {}\n",
    "\n",
    "# Train and evaluate models\n",
    "for name, model in models.items():\n",
    "    print(f\"Training {name}...\")\n",
    "    model.fit(X_train, y_train)\n",
    "    y_pred = model.predict(X_test)\n",
    "    y_probs = model.predict_proba(X_test)[:, 1]  \n",
    "\n",
    "    # Compute metrics\n",
    "    accuracy = accuracy_score(y_test, y_pred)\n",
    "    f1 = f1_score(y_test, y_pred)\n",
    "    roc_auc = roc_auc_score(y_test, y_probs)\n",
    "    \n",
    "    model_scores[name] = {\"accuracy\": accuracy, \"f1\": f1, \"roc_auc\": roc_auc, \"model\": model, \"y_probs\": y_probs, \"y_pred\": y_pred}\n",
    "\n",
    "    print(f\"{name}: Accuracy={accuracy:.4f}, F1={f1:.4f}, ROC-AUC={roc_auc:.4f}\")"
   ]
  },
  {
   "cell_type": "code",
   "execution_count": 7,
   "metadata": {},
   "outputs": [
    {
     "data": {
      "image/png": "[encoded data removed]",
      "text/plain": [
       "<Figure size 1000x600 with 1 Axes>"
      ]
     },
     "metadata": {},
     "output_type": "display_data"
    }
   ],
   "source": [
    "import matplotlib.pyplot as plt\n",
    "import numpy as np\n",
    "\n",
    "model_names = list(model_scores.keys())\n",
    "accuracy_values = [model_scores[m][\"accuracy\"] for m in model_names]\n",
    "f1_values = [model_scores[m][\"f1\"] for m in model_names]\n",
    "roc_auc_values = [model_scores[m][\"roc_auc\"] for m in model_names]\n",
    "\n",
    "plt.figure(figsize=(10, 6))\n",
    "x = np.arange(len(model_names))\n",
    "width = 0.25\n",
    "\n",
    "plt.bar(x - width, accuracy_values, width=width, label='Accuracy', color='blue')\n",
    "plt.bar(x, f1_values, width=width, label='F1 Score', color='green')\n",
    "plt.bar(x + width, roc_auc_values, width=width, label='ROC-AUC', color='red')\n",
    "\n",
    "plt.xlabel(\"Models\")\n",
    "plt.ylabel(\"Score\")\n",
    "plt.title(\"Model Performance Comparison\")\n",
    "plt.xticks(x, model_names)\n",
    "plt.legend()\n",
    "plt.show()"
   ]
  },
  {
   "cell_type": "code",
   "execution_count": 8,
   "metadata": {},
   "outputs": [
    {
     "name": "stdout",
     "output_type": "stream",
     "text": [
      "Best Model: Random Forest\n",
      "Best model saved to S3: s3://mydataset-710/models/Random Forest.pkl\n"
     ]
    }
   ],
   "source": [
    "import joblib\n",
    "\n",
    "# Find the best model based on ROC-AUC score\n",
    "best_model_name = max(model_scores, key=lambda x: model_scores[x][\"roc_auc\"])\n",
    "best_model = model_scores[best_model_name][\"model\"]\n",
    "\n",
    "print(f\"Best Model: {best_model_name}\")\n",
    "\n",
    "# Save locally in SageMaker instance\n",
    "model_filename = f\"/tmp/{best_model_name.replace(' ', '_')}.pkl\"\n",
    "joblib.dump(best_model, model_filename)\n",
    "\n",
    "# Define S3 path for model storage\n",
    "s3_model_path = f\"s3://{bucket_name}/models/{best_model_name}.pkl\"\n",
    "\n",
    "# Upload to S3\n",
    "s3_client.upload_file(model_filename, bucket_name, f\"models/{best_model_name}.pkl\")\n",
    "\n",
    "print(f\"Best model saved to S3: {s3_model_path}\")"
   ]
  },
  {
   "cell_type": "code",
   "execution_count": null,
   "metadata": {},
   "outputs": [],
   "source": []
  }
 ],
 "metadata": {
  "kernelspec": {
   "display_name": "conda_python3",
   "language": "python",
   "name": "conda_python3"
  },
  "language_info": {
   "codemirror_mode": {
    "name": "ipython",
    "version": 3
   },
   "file_extension": ".py",
   "mimetype": "text/x-python",
   "name": "python",
   "nbconvert_exporter": "python",
   "pygments_lexer": "ipython3",
   "version": "3.10.16"
  }
 },
 "nbformat": 4,
 "nbformat_minor": 4
}
